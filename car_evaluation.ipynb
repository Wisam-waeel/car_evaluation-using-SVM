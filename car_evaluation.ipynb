{
  "nbformat": 4,
  "nbformat_minor": 0,
  "metadata": {
    "colab": {
      "name": "car evaluation.ipynb",
      "provenance": [],
      "collapsed_sections": []
    },
    "kernelspec": {
      "name": "python3",
      "display_name": "Python 3"
    },
    "language_info": {
      "name": "python"
    }
  },
  "cells": [
    {
      "cell_type": "code",
      "metadata": {
        "id": "Ny5v5VBoaQK4"
      },
      "source": [
        "#This project use for car evaluation "
      ],
      "execution_count": 3,
      "outputs": []
    },
    {
      "cell_type": "code",
      "metadata": {
        "colab": {
          "base_uri": "https://localhost:8080/"
        },
        "id": "x8P76jz3KbCL",
        "outputId": "973953ec-a3d4-4502-feef-aebf282273a9"
      },
      "source": [
        "import numpy as np\n",
        "import pandas as pd\n",
        "from sklearn import neighbors, metrics, svm\n",
        "from sklearn.model_selection import train_test_split\n",
        "from sklearn.preprocessing import LabelEncoder\n",
        "\n",
        "from matplotlib import pyplot as plt\n",
        "\n",
        "data = pd.read_csv('car.data')\n",
        "print(data.head(10))"
      ],
      "execution_count": 2,
      "outputs": [
        {
          "output_type": "stream",
          "text": [
            "  buying  maint doors persons lug_boot safety  class\n",
            "0  vhigh  vhigh     2       2    small    med  unacc\n",
            "1  vhigh  vhigh     2       2    small   high  unacc\n",
            "2  vhigh  vhigh     2       2      med    low  unacc\n",
            "3  vhigh  vhigh     2       2      med    med  unacc\n",
            "4  vhigh  vhigh     2       2      med   high  unacc\n",
            "5  vhigh  vhigh     2       2      big    low  unacc\n",
            "6  vhigh  vhigh     2       2      big    med  unacc\n",
            "7  vhigh  vhigh     2       2      big   high  unacc\n",
            "8  vhigh  vhigh     2       4    small    low  unacc\n",
            "9  vhigh  vhigh     2       4    small    med  unacc\n"
          ],
          "name": "stdout"
        }
      ]
    },
    {
      "cell_type": "code",
      "metadata": {
        "colab": {
          "base_uri": "https://localhost:8080/"
        },
        "id": "88E8clpvLmgJ",
        "outputId": "34f0083e-c6d9-499b-d81b-b434c5a0569d"
      },
      "source": [
        "X = data[['buying', 'maint', 'safety']].values\n",
        "y = data[['class']]\n",
        "X = np.array(X)\n",
        "print(X)\n",
        "\n",
        "#converting data\n",
        "#X\n",
        "Le = LabelEncoder()\n",
        "for i in range(len(X[0])):\n",
        "    X[:, i] = Le.fit_transform(X[:, i])\n",
        "print(X)\n",
        "\n",
        "#y\n",
        "label_mapping = {\n",
        "    'unacc':0,\n",
        "    'acc':1,\n",
        "    'good':2,\n",
        "    'vgood':3\n",
        "}\n",
        "\n",
        "y['class'] = y['class'].map(label_mapping)\n",
        "y = np.array(y)\n"
      ],
      "execution_count": 4,
      "outputs": [
        {
          "output_type": "stream",
          "text": [
            "[['vhigh' 'vhigh' 'med']\n",
            " ['vhigh' 'vhigh' 'high']\n",
            " ['vhigh' 'vhigh' 'low']\n",
            " ...\n",
            " ['low' 'low' 'low']\n",
            " ['low' 'low' 'med']\n",
            " ['low' 'low' 'high']]\n",
            "[[3 3 2]\n",
            " [3 3 0]\n",
            " [3 3 1]\n",
            " ...\n",
            " [1 1 1]\n",
            " [1 1 2]\n",
            " [1 1 0]]\n"
          ],
          "name": "stdout"
        },
        {
          "output_type": "stream",
          "text": [
            "/usr/local/lib/python3.7/dist-packages/ipykernel_launcher.py:21: SettingWithCopyWarning: \n",
            "A value is trying to be set on a copy of a slice from a DataFrame.\n",
            "Try using .loc[row_indexer,col_indexer] = value instead\n",
            "\n",
            "See the caveats in the documentation: https://pandas.pydata.org/pandas-docs/stable/user_guide/indexing.html#returning-a-view-versus-a-copy\n"
          ],
          "name": "stderr"
        }
      ]
    },
    {
      "cell_type": "markdown",
      "metadata": {
        "id": "q1fHfkHvZjS2"
      },
      "source": [
        "# New Section"
      ]
    },
    {
      "cell_type": "code",
      "metadata": {
        "colab": {
          "base_uri": "https://localhost:8080/"
        },
        "id": "0j2MGJIA-znU",
        "outputId": "00395557-2f7a-486f-c593-dc4081bc7992"
      },
      "source": [
        "#print the dataset shape\n",
        "print(X.shape)\n",
        "print(y.shape)"
      ],
      "execution_count": 5,
      "outputs": [
        {
          "output_type": "stream",
          "text": [
            "(1727, 3)\n",
            "(1727, 1)\n"
          ],
          "name": "stdout"
        }
      ]
    },
    {
      "cell_type": "code",
      "metadata": {
        "colab": {
          "base_uri": "https://localhost:8080/"
        },
        "id": "66edn341_2Kl",
        "outputId": "9e0cea53-5776-40f1-b245-3372c81cf335"
      },
      "source": [
        "knn = svm.SVC()\n",
        "X_train, X_test, y_train, y_test =  train_test_split(X, y, test_size=0.2)\n",
        "knn.fit(X_train, y_train)\n",
        "prediction = knn.predict(X_test)\n",
        "\n",
        "accuracy = metrics.accuracy_score(y_test, prediction)\n",
        "print(\"predictions:\", prediction)\n",
        "print(\"accuracy: \", accuracy)\n",
        "\n",
        "a = int(input(\"ENTER THE PREDUCTION NUMBER IN DATASET.. \"))\n",
        "print(\"actual value \", y[a])\n",
        "print(\"predicted value\", knn.predict(X)[a])"
      ],
      "execution_count": 8,
      "outputs": [
        {
          "output_type": "stream",
          "text": [
            "/usr/local/lib/python3.7/dist-packages/sklearn/utils/validation.py:760: DataConversionWarning: A column-vector y was passed when a 1d array was expected. Please change the shape of y to (n_samples, ), for example using ravel().\n",
            "  y = column_or_1d(y, warn=True)\n"
          ],
          "name": "stderr"
        },
        {
          "output_type": "stream",
          "text": [
            "predictions: [0 0 0 0 1 0 0 0 0 1 0 0 1 0 0 0 0 0 1 0 0 0 0 0 1 0 0 0 1 0 0 0 0 0 0 0 0\n",
            " 1 0 0 0 1 0 0 0 0 0 0 0 0 0 0 0 0 1 0 0 0 0 0 1 1 0 0 1 0 1 0 0 0 0 0 0 0\n",
            " 0 0 1 1 0 0 0 0 1 0 0 0 1 0 0 1 0 0 0 0 0 0 1 0 0 0 0 0 0 0 0 0 0 0 0 0 0\n",
            " 0 1 0 1 0 0 0 0 0 0 0 0 0 0 1 0 0 0 1 0 0 0 0 0 1 0 0 0 0 0 0 0 0 0 1 0 0\n",
            " 0 0 0 1 0 0 0 1 0 0 0 0 1 0 0 0 0 0 0 0 0 0 0 1 0 0 0 0 0 0 0 0 0 0 0 0 0\n",
            " 0 1 1 0 0 0 0 0 0 0 0 0 1 0 0 0 0 0 0 0 0 0 1 0 0 0 1 0 0 0 0 0 0 0 0 1 0\n",
            " 0 0 0 0 0 0 0 0 1 0 0 0 0 0 1 1 0 0 0 0 0 0 0 0 0 0 0 0 1 0 1 1 1 0 0 0 0\n",
            " 0 0 0 0 0 1 0 0 0 0 0 0 0 0 0 0 0 0 0 0 0 0 0 0 0 0 0 0 0 0 0 0 0 0 0 0 1\n",
            " 0 0 0 0 1 0 0 0 0 0 1 0 0 0 0 0 0 0 0 0 1 0 0 1 1 0 0 1 1 0 1 0 0 0 0 0 0\n",
            " 0 0 0 0 0 0 0 0 0 0 0 0 0]\n",
            "accuracy:  0.7427745664739884\n",
            "ENTER THE PREDUCTION NUMBER IN DATASET.. 1701\n",
            "actual value  [0]\n",
            "predicted value 0\n"
          ],
          "name": "stdout"
        }
      ]
    }
  ]
}